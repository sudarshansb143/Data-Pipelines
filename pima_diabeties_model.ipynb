{
 "cells": [
  {
   "cell_type": "code",
   "execution_count": 1,
   "metadata": {},
   "outputs": [],
   "source": [
    "import pandas as pd\n",
    "import numpy as np\n",
    "from sklearn.model_selection import train_test_split\n",
    "import warnings as ws\n",
    "ws.filterwarnings(\"ignore\")"
   ]
  },
  {
   "cell_type": "code",
   "execution_count": 2,
   "metadata": {},
   "outputs": [],
   "source": [
    "df = pd.read_csv(\"diabetes.csv\")"
   ]
  },
  {
   "cell_type": "code",
   "execution_count": 45,
   "metadata": {},
   "outputs": [
    {
     "data": {
      "text/html": [
       "<div>\n",
       "<style scoped>\n",
       "    .dataframe tbody tr th:only-of-type {\n",
       "        vertical-align: middle;\n",
       "    }\n",
       "\n",
       "    .dataframe tbody tr th {\n",
       "        vertical-align: top;\n",
       "    }\n",
       "\n",
       "    .dataframe thead th {\n",
       "        text-align: right;\n",
       "    }\n",
       "</style>\n",
       "<table border=\"1\" class=\"dataframe\">\n",
       "  <thead>\n",
       "    <tr style=\"text-align: right;\">\n",
       "      <th></th>\n",
       "      <th>pregnancies</th>\n",
       "      <th>glucose</th>\n",
       "      <th>bloodpressure</th>\n",
       "      <th>skinthickness</th>\n",
       "      <th>insulin</th>\n",
       "      <th>bmi</th>\n",
       "      <th>diabetespedigreefunction</th>\n",
       "      <th>age</th>\n",
       "      <th>outcome</th>\n",
       "    </tr>\n",
       "  </thead>\n",
       "  <tbody>\n",
       "    <tr>\n",
       "      <th>0</th>\n",
       "      <td>6</td>\n",
       "      <td>148</td>\n",
       "      <td>72</td>\n",
       "      <td>35</td>\n",
       "      <td>0</td>\n",
       "      <td>33.6</td>\n",
       "      <td>0.627</td>\n",
       "      <td>3.912023</td>\n",
       "      <td>1</td>\n",
       "    </tr>\n",
       "    <tr>\n",
       "      <th>1</th>\n",
       "      <td>1</td>\n",
       "      <td>85</td>\n",
       "      <td>66</td>\n",
       "      <td>29</td>\n",
       "      <td>0</td>\n",
       "      <td>26.6</td>\n",
       "      <td>0.351</td>\n",
       "      <td>3.433987</td>\n",
       "      <td>0</td>\n",
       "    </tr>\n",
       "    <tr>\n",
       "      <th>2</th>\n",
       "      <td>8</td>\n",
       "      <td>183</td>\n",
       "      <td>64</td>\n",
       "      <td>0</td>\n",
       "      <td>0</td>\n",
       "      <td>23.3</td>\n",
       "      <td>0.672</td>\n",
       "      <td>3.465736</td>\n",
       "      <td>1</td>\n",
       "    </tr>\n",
       "    <tr>\n",
       "      <th>3</th>\n",
       "      <td>1</td>\n",
       "      <td>89</td>\n",
       "      <td>66</td>\n",
       "      <td>23</td>\n",
       "      <td>94</td>\n",
       "      <td>28.1</td>\n",
       "      <td>0.167</td>\n",
       "      <td>3.044522</td>\n",
       "      <td>0</td>\n",
       "    </tr>\n",
       "    <tr>\n",
       "      <th>4</th>\n",
       "      <td>0</td>\n",
       "      <td>137</td>\n",
       "      <td>40</td>\n",
       "      <td>35</td>\n",
       "      <td>168</td>\n",
       "      <td>43.1</td>\n",
       "      <td>2.288</td>\n",
       "      <td>3.496508</td>\n",
       "      <td>1</td>\n",
       "    </tr>\n",
       "  </tbody>\n",
       "</table>\n",
       "</div>"
      ],
      "text/plain": [
       "   pregnancies  glucose  bloodpressure  skinthickness  insulin   bmi  \\\n",
       "0            6      148             72             35        0  33.6   \n",
       "1            1       85             66             29        0  26.6   \n",
       "2            8      183             64              0        0  23.3   \n",
       "3            1       89             66             23       94  28.1   \n",
       "4            0      137             40             35      168  43.1   \n",
       "\n",
       "   diabetespedigreefunction       age  outcome  \n",
       "0                     0.627  3.912023        1  \n",
       "1                     0.351  3.433987        0  \n",
       "2                     0.672  3.465736        1  \n",
       "3                     0.167  3.044522        0  \n",
       "4                     2.288  3.496508        1  "
      ]
     },
     "execution_count": 45,
     "metadata": {},
     "output_type": "execute_result"
    }
   ],
   "source": [
    "df.head()"
   ]
  },
  {
   "cell_type": "code",
   "execution_count": 4,
   "metadata": {},
   "outputs": [
    {
     "data": {
      "text/plain": [
       "Pregnancies                 0\n",
       "Glucose                     0\n",
       "BloodPressure               0\n",
       "SkinThickness               0\n",
       "Insulin                     0\n",
       "BMI                         0\n",
       "DiabetesPedigreeFunction    0\n",
       "Age                         0\n",
       "Outcome                     0\n",
       "dtype: int64"
      ]
     },
     "execution_count": 4,
     "metadata": {},
     "output_type": "execute_result"
    }
   ],
   "source": [
    "df.isna().sum()"
   ]
  },
  {
   "cell_type": "code",
   "execution_count": 5,
   "metadata": {},
   "outputs": [],
   "source": [
    "def clean_name(name):\n",
    "    return name.strip().lower().replace(\" \", \"_\")"
   ]
  },
  {
   "cell_type": "code",
   "execution_count": 6,
   "metadata": {},
   "outputs": [],
   "source": [
    "df.rename(columns=clean_name, inplace=True)"
   ]
  },
  {
   "cell_type": "code",
   "execution_count": 7,
   "metadata": {},
   "outputs": [
    {
     "data": {
      "text/html": [
       "<div>\n",
       "<style scoped>\n",
       "    .dataframe tbody tr th:only-of-type {\n",
       "        vertical-align: middle;\n",
       "    }\n",
       "\n",
       "    .dataframe tbody tr th {\n",
       "        vertical-align: top;\n",
       "    }\n",
       "\n",
       "    .dataframe thead th {\n",
       "        text-align: right;\n",
       "    }\n",
       "</style>\n",
       "<table border=\"1\" class=\"dataframe\">\n",
       "  <thead>\n",
       "    <tr style=\"text-align: right;\">\n",
       "      <th></th>\n",
       "      <th>pregnancies</th>\n",
       "      <th>glucose</th>\n",
       "      <th>bloodpressure</th>\n",
       "      <th>skinthickness</th>\n",
       "      <th>insulin</th>\n",
       "      <th>bmi</th>\n",
       "      <th>diabetespedigreefunction</th>\n",
       "      <th>age</th>\n",
       "      <th>outcome</th>\n",
       "    </tr>\n",
       "  </thead>\n",
       "  <tbody>\n",
       "    <tr>\n",
       "      <th>0</th>\n",
       "      <td>6</td>\n",
       "      <td>148</td>\n",
       "      <td>72</td>\n",
       "      <td>35</td>\n",
       "      <td>0</td>\n",
       "      <td>33.6</td>\n",
       "      <td>0.627</td>\n",
       "      <td>50</td>\n",
       "      <td>1</td>\n",
       "    </tr>\n",
       "    <tr>\n",
       "      <th>1</th>\n",
       "      <td>1</td>\n",
       "      <td>85</td>\n",
       "      <td>66</td>\n",
       "      <td>29</td>\n",
       "      <td>0</td>\n",
       "      <td>26.6</td>\n",
       "      <td>0.351</td>\n",
       "      <td>31</td>\n",
       "      <td>0</td>\n",
       "    </tr>\n",
       "    <tr>\n",
       "      <th>2</th>\n",
       "      <td>8</td>\n",
       "      <td>183</td>\n",
       "      <td>64</td>\n",
       "      <td>0</td>\n",
       "      <td>0</td>\n",
       "      <td>23.3</td>\n",
       "      <td>0.672</td>\n",
       "      <td>32</td>\n",
       "      <td>1</td>\n",
       "    </tr>\n",
       "    <tr>\n",
       "      <th>3</th>\n",
       "      <td>1</td>\n",
       "      <td>89</td>\n",
       "      <td>66</td>\n",
       "      <td>23</td>\n",
       "      <td>94</td>\n",
       "      <td>28.1</td>\n",
       "      <td>0.167</td>\n",
       "      <td>21</td>\n",
       "      <td>0</td>\n",
       "    </tr>\n",
       "    <tr>\n",
       "      <th>4</th>\n",
       "      <td>0</td>\n",
       "      <td>137</td>\n",
       "      <td>40</td>\n",
       "      <td>35</td>\n",
       "      <td>168</td>\n",
       "      <td>43.1</td>\n",
       "      <td>2.288</td>\n",
       "      <td>33</td>\n",
       "      <td>1</td>\n",
       "    </tr>\n",
       "  </tbody>\n",
       "</table>\n",
       "</div>"
      ],
      "text/plain": [
       "   pregnancies  glucose  bloodpressure  skinthickness  insulin   bmi  \\\n",
       "0            6      148             72             35        0  33.6   \n",
       "1            1       85             66             29        0  26.6   \n",
       "2            8      183             64              0        0  23.3   \n",
       "3            1       89             66             23       94  28.1   \n",
       "4            0      137             40             35      168  43.1   \n",
       "\n",
       "   diabetespedigreefunction  age  outcome  \n",
       "0                     0.627   50        1  \n",
       "1                     0.351   31        0  \n",
       "2                     0.672   32        1  \n",
       "3                     0.167   21        0  \n",
       "4                     2.288   33        1  "
      ]
     },
     "execution_count": 7,
     "metadata": {},
     "output_type": "execute_result"
    }
   ],
   "source": [
    "df.head()"
   ]
  },
  {
   "cell_type": "code",
   "execution_count": 8,
   "metadata": {},
   "outputs": [],
   "source": [
    "X= df.drop(\"outcome\", axis = 1)\n",
    "y = df[\"outcome\"]"
   ]
  },
  {
   "cell_type": "code",
   "execution_count": 9,
   "metadata": {},
   "outputs": [
    {
     "data": {
      "text/html": [
       "<div>\n",
       "<style scoped>\n",
       "    .dataframe tbody tr th:only-of-type {\n",
       "        vertical-align: middle;\n",
       "    }\n",
       "\n",
       "    .dataframe tbody tr th {\n",
       "        vertical-align: top;\n",
       "    }\n",
       "\n",
       "    .dataframe thead th {\n",
       "        text-align: right;\n",
       "    }\n",
       "</style>\n",
       "<table border=\"1\" class=\"dataframe\">\n",
       "  <thead>\n",
       "    <tr style=\"text-align: right;\">\n",
       "      <th></th>\n",
       "      <th>pregnancies</th>\n",
       "      <th>glucose</th>\n",
       "      <th>bloodpressure</th>\n",
       "      <th>skinthickness</th>\n",
       "      <th>insulin</th>\n",
       "      <th>bmi</th>\n",
       "      <th>diabetespedigreefunction</th>\n",
       "      <th>age</th>\n",
       "    </tr>\n",
       "  </thead>\n",
       "  <tbody>\n",
       "    <tr>\n",
       "      <th>0</th>\n",
       "      <td>6</td>\n",
       "      <td>148</td>\n",
       "      <td>72</td>\n",
       "      <td>35</td>\n",
       "      <td>0</td>\n",
       "      <td>33.6</td>\n",
       "      <td>0.627</td>\n",
       "      <td>50</td>\n",
       "    </tr>\n",
       "    <tr>\n",
       "      <th>1</th>\n",
       "      <td>1</td>\n",
       "      <td>85</td>\n",
       "      <td>66</td>\n",
       "      <td>29</td>\n",
       "      <td>0</td>\n",
       "      <td>26.6</td>\n",
       "      <td>0.351</td>\n",
       "      <td>31</td>\n",
       "    </tr>\n",
       "    <tr>\n",
       "      <th>2</th>\n",
       "      <td>8</td>\n",
       "      <td>183</td>\n",
       "      <td>64</td>\n",
       "      <td>0</td>\n",
       "      <td>0</td>\n",
       "      <td>23.3</td>\n",
       "      <td>0.672</td>\n",
       "      <td>32</td>\n",
       "    </tr>\n",
       "    <tr>\n",
       "      <th>3</th>\n",
       "      <td>1</td>\n",
       "      <td>89</td>\n",
       "      <td>66</td>\n",
       "      <td>23</td>\n",
       "      <td>94</td>\n",
       "      <td>28.1</td>\n",
       "      <td>0.167</td>\n",
       "      <td>21</td>\n",
       "    </tr>\n",
       "    <tr>\n",
       "      <th>4</th>\n",
       "      <td>0</td>\n",
       "      <td>137</td>\n",
       "      <td>40</td>\n",
       "      <td>35</td>\n",
       "      <td>168</td>\n",
       "      <td>43.1</td>\n",
       "      <td>2.288</td>\n",
       "      <td>33</td>\n",
       "    </tr>\n",
       "  </tbody>\n",
       "</table>\n",
       "</div>"
      ],
      "text/plain": [
       "   pregnancies  glucose  bloodpressure  skinthickness  insulin   bmi  \\\n",
       "0            6      148             72             35        0  33.6   \n",
       "1            1       85             66             29        0  26.6   \n",
       "2            8      183             64              0        0  23.3   \n",
       "3            1       89             66             23       94  28.1   \n",
       "4            0      137             40             35      168  43.1   \n",
       "\n",
       "   diabetespedigreefunction  age  \n",
       "0                     0.627   50  \n",
       "1                     0.351   31  \n",
       "2                     0.672   32  \n",
       "3                     0.167   21  \n",
       "4                     2.288   33  "
      ]
     },
     "execution_count": 9,
     "metadata": {},
     "output_type": "execute_result"
    }
   ],
   "source": [
    "X.head()"
   ]
  },
  {
   "cell_type": "code",
   "execution_count": 10,
   "metadata": {},
   "outputs": [],
   "source": [
    "X[[\"insulin\", \"skinthickness\"]] =  X[[\"insulin\", \"skinthickness\"]].replace({0: np.nan})"
   ]
  },
  {
   "cell_type": "code",
   "execution_count": 11,
   "metadata": {},
   "outputs": [],
   "source": [
    "X.fillna(df.median(), inplace=True)"
   ]
  },
  {
   "cell_type": "code",
   "execution_count": 12,
   "metadata": {},
   "outputs": [
    {
     "data": {
      "text/html": [
       "<div>\n",
       "<style scoped>\n",
       "    .dataframe tbody tr th:only-of-type {\n",
       "        vertical-align: middle;\n",
       "    }\n",
       "\n",
       "    .dataframe tbody tr th {\n",
       "        vertical-align: top;\n",
       "    }\n",
       "\n",
       "    .dataframe thead th {\n",
       "        text-align: right;\n",
       "    }\n",
       "</style>\n",
       "<table border=\"1\" class=\"dataframe\">\n",
       "  <thead>\n",
       "    <tr style=\"text-align: right;\">\n",
       "      <th></th>\n",
       "      <th>pregnancies</th>\n",
       "      <th>glucose</th>\n",
       "      <th>bloodpressure</th>\n",
       "      <th>skinthickness</th>\n",
       "      <th>insulin</th>\n",
       "      <th>bmi</th>\n",
       "      <th>diabetespedigreefunction</th>\n",
       "      <th>age</th>\n",
       "    </tr>\n",
       "  </thead>\n",
       "  <tbody>\n",
       "    <tr>\n",
       "      <th>0</th>\n",
       "      <td>6</td>\n",
       "      <td>148</td>\n",
       "      <td>72</td>\n",
       "      <td>35.0</td>\n",
       "      <td>30.5</td>\n",
       "      <td>33.6</td>\n",
       "      <td>0.627</td>\n",
       "      <td>50</td>\n",
       "    </tr>\n",
       "    <tr>\n",
       "      <th>1</th>\n",
       "      <td>1</td>\n",
       "      <td>85</td>\n",
       "      <td>66</td>\n",
       "      <td>29.0</td>\n",
       "      <td>30.5</td>\n",
       "      <td>26.6</td>\n",
       "      <td>0.351</td>\n",
       "      <td>31</td>\n",
       "    </tr>\n",
       "    <tr>\n",
       "      <th>2</th>\n",
       "      <td>8</td>\n",
       "      <td>183</td>\n",
       "      <td>64</td>\n",
       "      <td>23.0</td>\n",
       "      <td>30.5</td>\n",
       "      <td>23.3</td>\n",
       "      <td>0.672</td>\n",
       "      <td>32</td>\n",
       "    </tr>\n",
       "    <tr>\n",
       "      <th>3</th>\n",
       "      <td>1</td>\n",
       "      <td>89</td>\n",
       "      <td>66</td>\n",
       "      <td>23.0</td>\n",
       "      <td>94.0</td>\n",
       "      <td>28.1</td>\n",
       "      <td>0.167</td>\n",
       "      <td>21</td>\n",
       "    </tr>\n",
       "    <tr>\n",
       "      <th>4</th>\n",
       "      <td>0</td>\n",
       "      <td>137</td>\n",
       "      <td>40</td>\n",
       "      <td>35.0</td>\n",
       "      <td>168.0</td>\n",
       "      <td>43.1</td>\n",
       "      <td>2.288</td>\n",
       "      <td>33</td>\n",
       "    </tr>\n",
       "  </tbody>\n",
       "</table>\n",
       "</div>"
      ],
      "text/plain": [
       "   pregnancies  glucose  bloodpressure  skinthickness  insulin   bmi  \\\n",
       "0            6      148             72           35.0     30.5  33.6   \n",
       "1            1       85             66           29.0     30.5  26.6   \n",
       "2            8      183             64           23.0     30.5  23.3   \n",
       "3            1       89             66           23.0     94.0  28.1   \n",
       "4            0      137             40           35.0    168.0  43.1   \n",
       "\n",
       "   diabetespedigreefunction  age  \n",
       "0                     0.627   50  \n",
       "1                     0.351   31  \n",
       "2                     0.672   32  \n",
       "3                     0.167   21  \n",
       "4                     2.288   33  "
      ]
     },
     "execution_count": 12,
     "metadata": {},
     "output_type": "execute_result"
    }
   ],
   "source": [
    "X.head()"
   ]
  },
  {
   "cell_type": "code",
   "execution_count": 13,
   "metadata": {},
   "outputs": [
    {
     "data": {
      "text/plain": [
       "pregnancies                 0\n",
       "glucose                     0\n",
       "bloodpressure               0\n",
       "skinthickness               0\n",
       "insulin                     0\n",
       "bmi                         0\n",
       "diabetespedigreefunction    0\n",
       "age                         0\n",
       "dtype: int64"
      ]
     },
     "execution_count": 13,
     "metadata": {},
     "output_type": "execute_result"
    }
   ],
   "source": [
    "X.isna().sum()"
   ]
  },
  {
   "cell_type": "code",
   "execution_count": 14,
   "metadata": {},
   "outputs": [],
   "source": [
    "# Splitting the data"
   ]
  },
  {
   "cell_type": "code",
   "execution_count": 15,
   "metadata": {},
   "outputs": [
    {
     "data": {
      "text/plain": [
       "<Figure size 640x480 with 1 Axes>"
      ]
     },
     "metadata": {},
     "output_type": "display_data"
    },
    {
     "data": {
      "text/plain": [
       "<Figure size 640x480 with 1 Axes>"
      ]
     },
     "metadata": {},
     "output_type": "display_data"
    },
    {
     "data": {
      "text/plain": [
       "<Figure size 640x480 with 1 Axes>"
      ]
     },
     "metadata": {},
     "output_type": "display_data"
    },
    {
     "data": {
      "text/plain": [
       "<Figure size 640x480 with 1 Axes>"
      ]
     },
     "metadata": {},
     "output_type": "display_data"
    },
    {
     "data": {
      "text/plain": [
       "<Figure size 640x480 with 1 Axes>"
      ]
     },
     "metadata": {},
     "output_type": "display_data"
    },
    {
     "data": {
      "text/plain": [
       "<Figure size 640x480 with 1 Axes>"
      ]
     },
     "metadata": {},
     "output_type": "display_data"
    },
    {
     "data": {
      "text/plain": [
       "<Figure size 640x480 with 1 Axes>"
      ]
     },
     "metadata": {},
     "output_type": "display_data"
    },
    {
     "data": {
      "text/plain": [
       "<Figure size 640x480 with 1 Axes>"
      ]
     },
     "metadata": {},
     "output_type": "display_data"
    },
    {
     "data": {
      "text/plain": [
       "<Figure size 640x480 with 1 Axes>"
      ]
     },
     "metadata": {},
     "output_type": "display_data"
    }
   ],
   "source": [
    "import seaborn as sns\n",
    "import matplotlib.pyplot as plt\n",
    "\n",
    "for i in df.columns.to_list():\n",
    "    sns.distplot(df[i])\n",
    "    plt.show()"
   ]
  },
  {
   "cell_type": "code",
   "execution_count": 16,
   "metadata": {},
   "outputs": [
    {
     "data": {
      "text/plain": [
       "Index(['pregnancies', 'glucose', 'bloodpressure', 'skinthickness', 'insulin',\n",
       "       'bmi', 'diabetespedigreefunction', 'age', 'outcome'],\n",
       "      dtype='object')"
      ]
     },
     "execution_count": 16,
     "metadata": {},
     "output_type": "execute_result"
    }
   ],
   "source": [
    "df.columns"
   ]
  },
  {
   "cell_type": "code",
   "execution_count": 17,
   "metadata": {},
   "outputs": [
    {
     "data": {
      "text/plain": [
       "<matplotlib.axes._subplots.AxesSubplot at 0x24f2bd7ef98>"
      ]
     },
     "execution_count": 17,
     "metadata": {},
     "output_type": "execute_result"
    },
    {
     "data": {
      "image/png": "[encoded data removed]",
      "text/plain": [
       "<Figure size 576x576 with 2 Axes>"
      ]
     },
     "metadata": {
      "needs_background": "light"
     },
     "output_type": "display_data"
    }
   ],
   "source": [
    "plt.figure(figsize=(8,8))\n",
    "sns.heatmap(df.corr(), annot = True, fmt = \".2f\")"
   ]
  },
  {
   "cell_type": "code",
   "execution_count": 18,
   "metadata": {},
   "outputs": [
    {
     "data": {
      "text/html": [
       "<div>\n",
       "<style scoped>\n",
       "    .dataframe tbody tr th:only-of-type {\n",
       "        vertical-align: middle;\n",
       "    }\n",
       "\n",
       "    .dataframe tbody tr th {\n",
       "        vertical-align: top;\n",
       "    }\n",
       "\n",
       "    .dataframe thead th {\n",
       "        text-align: right;\n",
       "    }\n",
       "</style>\n",
       "<table border=\"1\" class=\"dataframe\">\n",
       "  <thead>\n",
       "    <tr style=\"text-align: right;\">\n",
       "      <th></th>\n",
       "      <th>col</th>\n",
       "      <th>correlation</th>\n",
       "    </tr>\n",
       "  </thead>\n",
       "  <tbody>\n",
       "    <tr>\n",
       "      <th>8</th>\n",
       "      <td>outcome</td>\n",
       "      <td>1.000000</td>\n",
       "    </tr>\n",
       "    <tr>\n",
       "      <th>1</th>\n",
       "      <td>glucose</td>\n",
       "      <td>0.466581</td>\n",
       "    </tr>\n",
       "    <tr>\n",
       "      <th>5</th>\n",
       "      <td>bmi</td>\n",
       "      <td>0.292695</td>\n",
       "    </tr>\n",
       "    <tr>\n",
       "      <th>7</th>\n",
       "      <td>age</td>\n",
       "      <td>0.238356</td>\n",
       "    </tr>\n",
       "    <tr>\n",
       "      <th>0</th>\n",
       "      <td>pregnancies</td>\n",
       "      <td>0.221898</td>\n",
       "    </tr>\n",
       "    <tr>\n",
       "      <th>6</th>\n",
       "      <td>diabetespedigreefunction</td>\n",
       "      <td>0.173844</td>\n",
       "    </tr>\n",
       "    <tr>\n",
       "      <th>4</th>\n",
       "      <td>insulin</td>\n",
       "      <td>0.130548</td>\n",
       "    </tr>\n",
       "    <tr>\n",
       "      <th>3</th>\n",
       "      <td>skinthickness</td>\n",
       "      <td>0.074752</td>\n",
       "    </tr>\n",
       "    <tr>\n",
       "      <th>2</th>\n",
       "      <td>bloodpressure</td>\n",
       "      <td>0.065068</td>\n",
       "    </tr>\n",
       "  </tbody>\n",
       "</table>\n",
       "</div>"
      ],
      "text/plain": [
       "                        col  correlation\n",
       "8                   outcome     1.000000\n",
       "1                   glucose     0.466581\n",
       "5                       bmi     0.292695\n",
       "7                       age     0.238356\n",
       "0               pregnancies     0.221898\n",
       "6  diabetespedigreefunction     0.173844\n",
       "4                   insulin     0.130548\n",
       "3             skinthickness     0.074752\n",
       "2             bloodpressure     0.065068"
      ]
     },
     "execution_count": 18,
     "metadata": {},
     "output_type": "execute_result"
    }
   ],
   "source": [
    "pd.DataFrame(df.corr()[\"outcome\"]).reset_index().rename(columns= {'index' : \"col\", \"outcome\" : \"correlation\"}).sort_values(by = \"correlation\", ascending = False)"
   ]
  },
  {
   "cell_type": "code",
   "execution_count": 19,
   "metadata": {},
   "outputs": [],
   "source": [
    "col = ['glucose', 'bmi', 'age', 'pregnancies']\n",
    "X = df[col]"
   ]
  },
  {
   "cell_type": "code",
   "execution_count": 20,
   "metadata": {},
   "outputs": [
    {
     "data": {
      "image/png": "[encoded data removed]",
      "text/plain": [
       "<Figure size 432x288 with 1 Axes>"
      ]
     },
     "metadata": {
      "needs_background": "light"
     },
     "output_type": "display_data"
    },
    {
     "data": {
      "image/png": "[encoded data removed]",
      "text/plain": [
       "<Figure size 432x288 with 1 Axes>"
      ]
     },
     "metadata": {
      "needs_background": "light"
     },
     "output_type": "display_data"
    },
    {
     "data": {
      "image/png": "[encoded data removed]",
      "text/plain": [
       "<Figure size 432x288 with 1 Axes>"
      ]
     },
     "metadata": {
      "needs_background": "light"
     },
     "output_type": "display_data"
    },
    {
     "data": {
      "image/png": "[encoded data removed]",
      "text/plain": [
       "<Figure size 432x288 with 1 Axes>"
      ]
     },
     "metadata": {
      "needs_background": "light"
     },
     "output_type": "display_data"
    }
   ],
   "source": [
    "from scipy.stats import norm\n",
    "for i in X.columns.to_list():\n",
    "    sns.distplot(df[i], fit=norm)\n",
    "    plt.show()"
   ]
  },
  {
   "cell_type": "code",
   "execution_count": 26,
   "metadata": {},
   "outputs": [],
   "source": [
    "X.age = np.log(X.age)"
   ]
  },
  {
   "cell_type": "code",
   "execution_count": 27,
   "metadata": {},
   "outputs": [
    {
     "data": {
      "text/html": [
       "<div>\n",
       "<style scoped>\n",
       "    .dataframe tbody tr th:only-of-type {\n",
       "        vertical-align: middle;\n",
       "    }\n",
       "\n",
       "    .dataframe tbody tr th {\n",
       "        vertical-align: top;\n",
       "    }\n",
       "\n",
       "    .dataframe thead th {\n",
       "        text-align: right;\n",
       "    }\n",
       "</style>\n",
       "<table border=\"1\" class=\"dataframe\">\n",
       "  <thead>\n",
       "    <tr style=\"text-align: right;\">\n",
       "      <th></th>\n",
       "      <th>glucose</th>\n",
       "      <th>bmi</th>\n",
       "      <th>age</th>\n",
       "      <th>pregnancies</th>\n",
       "    </tr>\n",
       "  </thead>\n",
       "  <tbody>\n",
       "    <tr>\n",
       "      <th>0</th>\n",
       "      <td>148</td>\n",
       "      <td>33.6</td>\n",
       "      <td>3.912023</td>\n",
       "      <td>6</td>\n",
       "    </tr>\n",
       "    <tr>\n",
       "      <th>1</th>\n",
       "      <td>85</td>\n",
       "      <td>26.6</td>\n",
       "      <td>3.433987</td>\n",
       "      <td>1</td>\n",
       "    </tr>\n",
       "    <tr>\n",
       "      <th>2</th>\n",
       "      <td>183</td>\n",
       "      <td>23.3</td>\n",
       "      <td>3.465736</td>\n",
       "      <td>8</td>\n",
       "    </tr>\n",
       "    <tr>\n",
       "      <th>3</th>\n",
       "      <td>89</td>\n",
       "      <td>28.1</td>\n",
       "      <td>3.044522</td>\n",
       "      <td>1</td>\n",
       "    </tr>\n",
       "    <tr>\n",
       "      <th>4</th>\n",
       "      <td>137</td>\n",
       "      <td>43.1</td>\n",
       "      <td>3.496508</td>\n",
       "      <td>0</td>\n",
       "    </tr>\n",
       "  </tbody>\n",
       "</table>\n",
       "</div>"
      ],
      "text/plain": [
       "   glucose   bmi       age  pregnancies\n",
       "0      148  33.6  3.912023            6\n",
       "1       85  26.6  3.433987            1\n",
       "2      183  23.3  3.465736            8\n",
       "3       89  28.1  3.044522            1\n",
       "4      137  43.1  3.496508            0"
      ]
     },
     "execution_count": 27,
     "metadata": {},
     "output_type": "execute_result"
    }
   ],
   "source": [
    "X.head()"
   ]
  },
  {
   "cell_type": "code",
   "execution_count": 30,
   "metadata": {},
   "outputs": [],
   "source": [
    "X_train, X_test, y_train, y_test = train_test_split (X, y, test_size= 0.2, random_state = 42, stratify = y)\n",
    "from sklearn.preprocessing import StandardScaler\n",
    "scaler_ = StandardScaler()\n",
    "X_train = scaler_.fit_transform(X_train)\n",
    "X_test = scaler_.transform(X_test)"
   ]
  },
  {
   "cell_type": "code",
   "execution_count": 31,
   "metadata": {},
   "outputs": [],
   "source": [
    "from sklearn.linear_model import LogisticRegression\n",
    "from sklearn.naive_bayes import  GaussianNB\n",
    "from sklearn.neighbors import KNeighborsClassifier\n",
    "from sklearn.tree import DecisionTreeClassifier\n",
    "from sklearn.ensemble import RandomForestClassifier"
   ]
  },
  {
   "cell_type": "code",
   "execution_count": 32,
   "metadata": {},
   "outputs": [
    {
     "name": "stdout",
     "output_type": "stream",
     "text": [
      "LogisticRegression  score is  0.7207792207792207\n",
      "GaussianNB  score is  0.7272727272727273\n",
      "KNeighborsClassifier  score is  0.7142857142857143\n",
      "DecisionTreeClassifier  score is  0.6948051948051948\n",
      "RandomForestClassifier  score is  0.7597402597402597\n"
     ]
    }
   ],
   "source": [
    "for i in [LogisticRegression(), GaussianNB(), KNeighborsClassifier(), DecisionTreeClassifier(), RandomForestClassifier()]:\n",
    "    i.fit(X_train,y_train)\n",
    "    y_pred = i.predict(X_test)\n",
    "    from sklearn.metrics import accuracy_score\n",
    "    acc = accuracy_score(y_test, y_pred)\n",
    "    print(i.__class__.__name__ , \" score is \", acc)"
   ]
  },
  {
   "cell_type": "code",
   "execution_count": 34,
   "metadata": {},
   "outputs": [
    {
     "name": "stdout",
     "output_type": "stream",
     "text": [
      "Fitting 3 folds for each of 6 candidates, totalling 18 fits\n"
     ]
    },
    {
     "name": "stderr",
     "output_type": "stream",
     "text": [
      "[Parallel(n_jobs=1)]: Using backend SequentialBackend with 1 concurrent workers.\n",
      "[Parallel(n_jobs=1)]: Done  18 out of  18 | elapsed:    4.8s finished\n"
     ]
    },
    {
     "data": {
      "text/plain": [
       "GridSearchCV(cv=3, error_score='raise-deprecating',\n",
       "             estimator=RandomForestClassifier(bootstrap=True, class_weight=None,\n",
       "                                              criterion='gini', max_depth=None,\n",
       "                                              max_features='auto',\n",
       "                                              max_leaf_nodes=None,\n",
       "                                              min_impurity_decrease=0.0,\n",
       "                                              min_impurity_split=None,\n",
       "                                              min_samples_leaf=1,\n",
       "                                              min_samples_split=2,\n",
       "                                              min_weight_fraction_leaf=0.0,\n",
       "                                              n_estimators='warn', n_jobs=None,\n",
       "                                              oob_score=False,\n",
       "                                              random_state=None, verbose=0,\n",
       "                                              warm_start=False),\n",
       "             iid='warn', n_jobs=None,\n",
       "             param_grid={'max_depth': [4, 6], 'n_estimators': [100, 200, 500]},\n",
       "             pre_dispatch='2*n_jobs', refit=True, return_train_score=False,\n",
       "             scoring='roc_auc', verbose=1)"
      ]
     },
     "execution_count": 34,
     "metadata": {},
     "output_type": "execute_result"
    }
   ],
   "source": [
    "# Tuning the  RandomForest\n",
    "\n",
    "param = {\n",
    "    'max_depth' : [4,6],\n",
    "    'n_estimators' : [100,200,500],\n",
    "}\n",
    "rf = RandomForestClassifier()\n",
    "from sklearn.model_selection import GridSearchCV\n",
    "gsv = GridSearchCV(rf, param, scoring=\"roc_auc\", cv = 3,  verbose = 1)\n",
    "gsv.fit(X_train, y_train)"
   ]
  },
  {
   "cell_type": "code",
   "execution_count": 35,
   "metadata": {},
   "outputs": [
    {
     "data": {
      "text/plain": [
       "{'max_depth': 4, 'n_estimators': 100}"
      ]
     },
     "execution_count": 35,
     "metadata": {},
     "output_type": "execute_result"
    }
   ],
   "source": [
    "gsv.best_params_"
   ]
  },
  {
   "cell_type": "code",
   "execution_count": 36,
   "metadata": {},
   "outputs": [
    {
     "data": {
      "text/plain": [
       "0.8268446295315354"
      ]
     },
     "execution_count": 36,
     "metadata": {},
     "output_type": "execute_result"
    }
   ],
   "source": [
    "gsv.best_score_"
   ]
  },
  {
   "cell_type": "code",
   "execution_count": 37,
   "metadata": {},
   "outputs": [],
   "source": [
    "# Final rfe\n",
    "rf_final = RandomForestClassifier(**gsv.best_params_)"
   ]
  },
  {
   "cell_type": "code",
   "execution_count": 38,
   "metadata": {},
   "outputs": [
    {
     "data": {
      "text/plain": [
       "RandomForestClassifier(bootstrap=True, class_weight=None, criterion='gini',\n",
       "                       max_depth=4, max_features='auto', max_leaf_nodes=None,\n",
       "                       min_impurity_decrease=0.0, min_impurity_split=None,\n",
       "                       min_samples_leaf=1, min_samples_split=2,\n",
       "                       min_weight_fraction_leaf=0.0, n_estimators=100,\n",
       "                       n_jobs=None, oob_score=False, random_state=None,\n",
       "                       verbose=0, warm_start=False)"
      ]
     },
     "execution_count": 38,
     "metadata": {},
     "output_type": "execute_result"
    }
   ],
   "source": [
    "rf_final.fit(X_train, y_train)"
   ]
  },
  {
   "cell_type": "code",
   "execution_count": 39,
   "metadata": {},
   "outputs": [],
   "source": [
    "y_pred = rf_final.predict(X_test)"
   ]
  },
  {
   "cell_type": "code",
   "execution_count": 40,
   "metadata": {},
   "outputs": [],
   "source": [
    "from sklearn.metrics import accuracy_score, confusion_matrix"
   ]
  },
  {
   "cell_type": "code",
   "execution_count": 41,
   "metadata": {},
   "outputs": [
    {
     "name": "stdout",
     "output_type": "stream",
     "text": [
      "0.7272727272727273\n"
     ]
    }
   ],
   "source": [
    "print (accuracy_score(y_test, y_pred))"
   ]
  },
  {
   "cell_type": "code",
   "execution_count": 42,
   "metadata": {},
   "outputs": [
    {
     "name": "stdout",
     "output_type": "stream",
     "text": [
      "[[84 16]\n",
      " [26 28]]\n"
     ]
    }
   ],
   "source": [
    "print(confusion_matrix(y_test, y_pred))"
   ]
  },
  {
   "cell_type": "markdown",
   "metadata": {},
   "source": [
    "### clearly the model is overfitting the data hene we need the more data and hence this will remove the overfitting"
   ]
  },
  {
   "cell_type": "code",
   "execution_count": 46,
   "metadata": {},
   "outputs": [],
   "source": [
    "from sklearn import preprocessing"
   ]
  },
  {
   "cell_type": "code",
   "execution_count": 53,
   "metadata": {},
   "outputs": [],
   "source": [
    "pt = preprocessing.PowerTransformer(method='box-cox', standardize=True)"
   ]
  },
  {
   "cell_type": "code",
   "execution_count": 54,
   "metadata": {},
   "outputs": [
    {
     "data": {
      "text/plain": [
       "<matplotlib.axes._subplots.AxesSubplot at 0x24f2f1177b8>"
      ]
     },
     "execution_count": 54,
     "metadata": {},
     "output_type": "execute_result"
    },
    {
     "data": {
      "image/png": "[encoded data removed]",
      "text/plain": [
       "<Figure size 432x288 with 1 Axes>"
      ]
     },
     "metadata": {
      "needs_background": "light"
     },
     "output_type": "display_data"
    }
   ],
   "source": [
    "sns.distplot(df.age)"
   ]
  },
  {
   "cell_type": "code",
   "execution_count": 58,
   "metadata": {},
   "outputs": [
    {
     "ename": "ValueError",
     "evalue": "Expected 2D array, got 1D array instead:\narray=[3.91202301 3.4339872  3.4657359  3.04452244 3.49650756 3.40119738\n 3.25809654 3.36729583 3.97029191 3.98898405 3.40119738 3.52636052\n 4.04305127 4.07753744 3.93182563 3.4657359  3.4339872  3.4339872\n 3.49650756 3.4657359  3.29583687 3.91202301 3.71357207 3.36729583\n 3.93182563 3.71357207 3.76120012 3.09104245 4.04305127 3.63758616\n 4.09434456 3.33220451 3.09104245 3.33220451 3.80666249 3.49650756\n 3.55534806 3.8286414  3.29583687 4.02535169 3.25809654 3.61091791\n 3.87120101 3.98898405 3.68887945 3.21887582 3.36729583 3.09104245\n 3.4339872  3.17805383 3.09104245 3.25809654 3.40119738 4.06044301\n 3.73766962 3.04452244 3.71357207 3.4339872  3.78418963 3.09104245\n 3.04452244 3.66356165 3.58351894 3.17805383 3.73766962 3.4657359\n 3.63758616 3.98898405 3.21887582 3.29583687 3.33220451 3.25809654\n 3.73766962 3.13549422 3.09104245 3.09104245 3.71357207 3.29583687\n 3.25809654 3.17805383 3.09104245 3.09104245 3.58351894 3.09104245\n 3.61091791 3.29583687 3.80666249 3.25809654 3.76120012 3.17805383\n 3.04452244 3.52636052 3.73766962 4.09434456 3.04452244 3.68887945\n 3.17805383 3.09104245 3.13549422 3.4339872  3.49650756 3.09104245\n 3.04452244 3.17805383 3.29583687 3.04452244 3.29583687 3.61091791\n 3.21887582 3.17805383 3.17805383 3.8286414  3.13549422 3.21887582\n 3.66356165 4.11087386 3.63758616 3.21887582 3.09104245 3.04452244\n 3.21887582 3.17805383 3.13549422 4.2341065  3.13549422 3.25809654\n 3.40119738 3.13549422 3.68887945 4.12713439 3.49650756 3.49650756\n 3.40119738 3.66356165 3.25809654 3.4339872  3.04452244 3.09104245\n 3.36729583 3.33220451 4.00733319 3.63758616 3.09104245 3.73766962\n 3.13549422 3.04452244 3.71357207 3.52636052 4.17438727 3.09104245\n 3.17805383 3.61091791 3.73766962 3.13549422 3.76120012 3.58351894\n 3.04452244 3.13549422 3.09104245 3.8501476  3.58351894 3.80666249\n 3.29583687 3.04452244 3.4657359  3.71357207 3.09104245 3.52636052\n 3.36729583 3.36729583 3.58351894 3.36729583 3.21887582 3.13549422\n 3.49650756 3.58351894 3.73766962 3.25809654 3.8501476  3.61091791\n 3.4657359  3.13549422 3.04452244 3.29583687 3.68887945 3.71357207\n 4.09434456 3.49650756 3.4339872  3.21887582 3.04452244 3.68887945\n 3.58351894 3.68887945 3.73766962 3.36729583 3.04452244 3.13549422\n 3.25809654 3.36729583 3.04452244 3.33220451 3.4657359  3.29583687\n 4.00733319 3.29583687 4.04305127 3.95124372 3.04452244 3.71357207\n 3.21887582 3.17805383 4.09434456 3.17805383 3.58351894 3.63758616\n 3.21887582 3.4657359  3.4657359  3.71357207 3.04452244 4.18965474\n 3.61091791 4.11087386 3.25809654 3.09104245 3.25809654 3.17805383\n 3.4339872  3.17805383 3.09104245 3.8286414  3.09104245 3.36729583\n 3.13549422 3.25809654 3.93182563 3.13549422 3.4657359  3.29583687\n 3.04452244 3.09104245 3.09104245 3.49650756 3.36729583 3.8918203\n 3.71357207 3.13549422 3.52636052 3.13549422 3.73766962 3.29583687\n 3.17805383 3.21887582 3.78418963 3.04452244 3.40119738 3.21887582\n 3.17805383 3.93182563 3.52636052 3.29583687 3.17805383 4.14313473\n 3.55534806 3.76120012 3.21887582 3.17805383 3.04452244 3.33220451\n 3.63758616 3.04452244 3.68887945 3.04452244 3.95124372 3.21887582\n 3.36729583 3.13549422 4.04305127 3.09104245 3.33220451 3.66356165\n 3.61091791 3.8501476  3.95124372 3.93182563 3.52636052 3.36729583\n 3.25809654 3.49650756 3.04452244 3.21887582 3.4339872  3.17805383\n 4.17438727 3.33220451 3.36729583 3.17805383 3.8286414  4.06044301\n 3.40119738 3.21887582 3.55534806 3.33220451 3.61091791 3.36729583\n 3.8501476  3.04452244 3.21887582 3.40119738 3.71357207 3.09104245\n 3.29583687 3.21887582 3.76120012 3.25809654 3.40119738 3.36729583\n 3.33220451 4.07753744 3.4339872  3.21887582 3.58351894 3.76120012\n 3.04452244 3.17805383 3.40119738 3.61091791 3.13549422 3.61091791\n 3.8286414  3.21887582 3.71357207 3.78418963 3.09104245 3.25809654\n 3.78418963 3.78418963 3.49650756 3.71357207 3.09104245 3.58351894\n 3.09104245 3.49650756 4.04305127 3.8918203  3.09104245 3.13549422\n 3.25809654 3.61091791 3.36729583 3.40119738 3.8286414  3.17805383\n 3.04452244 3.8918203  3.33220451 3.78418963 3.87120101 3.36729583\n 3.36729583 4.14313473 4.17438727 4.20469262 3.40119738 3.40119738\n 3.36729583 3.04452244 3.09104245 3.80666249 3.21887582 3.04452244\n 3.04452244 3.21887582 3.33220451 4.06044301 3.09104245 3.09104245\n 3.4657359  3.55534806 3.17805383 3.09104245 3.04452244 3.21887582\n 3.21887582 3.17805383 3.55534806 3.80666249 4.06044301 3.33220451\n 3.73766962 3.29583687 3.04452244 3.61091791 3.4339872  3.21887582\n 3.66356165 3.09104245 3.21887582 3.21887582 3.4339872  4.00733319\n 3.55534806 3.63758616 3.71357207 3.25809654 3.8286414  3.21887582\n 3.66356165 3.33220451 3.33220451 3.21887582 3.09104245 3.04452244\n 3.04452244 3.09104245 3.09104245 3.61091791 3.29583687 3.33220451\n 3.25809654 3.04452244 3.04452244 3.04452244 3.58351894 3.4339872\n 3.21887582 3.63758616 3.25809654 3.76120012 3.13549422 3.63758616\n 3.09104245 3.36729583 3.58351894 3.36729583 3.71357207 3.33220451\n 3.04452244 3.4339872  3.71357207 3.09104245 3.17805383 3.49650756\n 3.40119738 3.21887582 3.33220451 3.25809654 3.09104245 3.25809654\n 3.13549422 3.13549422 3.21887582 4.27666612 3.17805383 3.63758616\n 4.12713439 3.17805383 3.93182563 4.39444915 3.87120101 3.25809654\n 3.66356165 3.61091791 3.52636052 3.04452244 3.09104245 3.21887582\n 3.63758616 3.29583687 3.33220451 3.09104245 3.09104245 3.91202301\n 3.17805383 4.07753744 3.36729583 3.4339872  3.66356165 4.14313473\n 3.55534806 3.36729583 3.33220451 3.13549422 3.4339872  3.17805383\n 3.04452244 4.06044301 3.33220451 4.20469262 3.17805383 3.73766962\n 3.49650756 3.80666249 3.09104245 4.18965474 3.40119738 3.21887582\n 4.00733319 3.66356165 3.04452244 3.33220451 3.71357207 3.71357207\n 3.68887945 3.63758616 3.55534806 3.04452244 3.04452244 4.15888308\n 3.8286414  3.04452244 4.06044301 3.09104245 3.17805383 3.33220451\n 3.97029191 3.93182563 3.71357207 4.09434456 3.21887582 3.25809654\n 3.25809654 3.80666249 3.17805383 3.04452244 3.04452244 3.17805383\n 3.09104245 3.4339872  3.09104245 3.17805383 3.36729583 3.4339872\n 3.17805383 3.13549422 3.8286414  4.20469262 3.13549422 3.4657359\n 3.76120012 3.29583687 4.02535169 3.21887582 3.36729583 3.61091791\n 3.97029191 3.33220451 3.91202301 3.61091791 3.04452244 3.21887582\n 4.18965474 3.13549422 3.33220451 3.61091791 3.40119738 4.06044301\n 3.73766962 3.55534806 3.98898405 3.33220451 3.17805383 3.4657359\n 3.29583687 3.09104245 3.04452244 3.8286414  3.61091791 3.49650756\n 3.66356165 3.04452244 3.09104245 3.09104245 3.13549422 3.21887582\n 3.55534806 3.04452244 3.58351894 4.12713439 3.04452244 3.29583687\n 4.12713439 3.73766962 3.95124372 3.09104245 3.71357207 3.36729583\n 3.95124372 3.21887582 3.80666249 3.17805383 3.78418963 3.21887582\n 3.52636052 3.09104245 3.8286414  3.04452244 3.63758616 3.25809654\n 3.17805383 3.33220451 3.40119738 3.98898405 3.58351894 3.04452244\n 3.09104245 3.21887582 3.29583687 3.13549422 3.17805383 3.58351894\n 3.68887945 3.25809654 3.91202301 3.29583687 3.40119738 3.13549422\n 3.91202301 3.17805383 3.33220451 3.33220451 3.80666249 3.04452244\n 3.04452244 3.36729583 3.04452244 3.04452244 3.80666249 3.04452244\n 3.52636052 3.17805383 3.13549422 3.09104245 3.4339872  3.63758616\n 3.87120101 3.13549422 3.4657359  3.33220451 3.29583687 3.17805383\n 3.91202301 3.4339872  3.29583687 3.40119738 3.49650756 3.09104245\n 3.73766962 3.13549422 3.13549422 3.29583687 3.33220451 3.29583687\n 3.09104245 3.21887582 3.09104245 3.71357207 3.93182563 3.29583687\n 3.98898405 3.09104245 3.76120012 3.68887945 3.68887945 3.17805383\n 4.24849524 3.68887945 3.76120012 3.80666249 3.8918203  3.04452244\n 3.8501476  3.09104245 4.21950771 3.4339872  3.97029191 3.21887582\n 3.21887582 3.13549422 3.09104245 3.25809654 3.09104245 3.29583687\n 4.2341065  3.21887582 3.09104245 3.36729583 3.13549422 3.8286414\n 3.52636052 3.78418963 3.13549422 3.76120012 3.21887582 3.76120012\n 3.4339872  3.09104245 3.33220451 3.25809654 3.25809654 3.8918203\n 3.95124372 3.71357207 3.29583687 3.33220451 3.40119738 3.09104245\n 3.80666249 3.13549422 3.17805383 3.68887945 3.63758616 3.04452244\n 3.4657359  3.52636052 3.4339872  4.02535169 3.17805383 3.95124372\n 3.52636052 3.04452244 3.73766962 3.73766962 3.80666249 3.63758616\n 3.21887582 3.09104245 3.09104245 3.09104245 3.52636052 3.09104245\n 3.17805383 3.09104245 3.97029191 3.33220451 3.04452244 3.73766962\n 3.04452244 3.73766962 3.87120101 3.25809654 3.09104245 3.80666249\n 3.66356165 3.8286414  3.29583687 3.4657359  3.58351894 3.91202301\n 3.09104245 3.33220451 3.21887582 3.25809654 3.80666249 3.61091791\n 3.66356165 3.95124372 3.25809654 4.18965474 3.09104245 3.76120012\n 3.49650756 4.14313473 3.29583687 3.40119738 3.8501476  3.13549422].\nReshape your data either using array.reshape(-1, 1) if your data has a single feature or array.reshape(1, -1) if it contains a single sample.",
     "output_type": "error",
     "traceback": [
      "\u001b[1;31m---------------------------------------------------------------------------\u001b[0m",
      "\u001b[1;31mValueError\u001b[0m                                Traceback (most recent call last)",
      "\u001b[1;32m<ipython-input-58-fba1f702423f>\u001b[0m in \u001b[0;36m<module>\u001b[1;34m\u001b[0m\n\u001b[0;32m      1\u001b[0m \u001b[1;32mfrom\u001b[0m \u001b[0msklearn\u001b[0m\u001b[1;33m.\u001b[0m\u001b[0mpreprocessing\u001b[0m \u001b[1;32mimport\u001b[0m \u001b[0mRobustScaler\u001b[0m\u001b[1;33m\u001b[0m\u001b[1;33m\u001b[0m\u001b[0m\n\u001b[0;32m      2\u001b[0m \u001b[0mrbs\u001b[0m \u001b[1;33m=\u001b[0m \u001b[0mRobustScaler\u001b[0m\u001b[1;33m(\u001b[0m\u001b[1;33m)\u001b[0m\u001b[1;33m\u001b[0m\u001b[1;33m\u001b[0m\u001b[0m\n\u001b[1;32m----> 3\u001b[1;33m \u001b[0mage\u001b[0m \u001b[1;33m=\u001b[0m \u001b[0mrbs\u001b[0m\u001b[1;33m.\u001b[0m\u001b[0mfit_transform\u001b[0m\u001b[1;33m(\u001b[0m\u001b[0mdf\u001b[0m\u001b[1;33m.\u001b[0m\u001b[0mage\u001b[0m\u001b[1;33m)\u001b[0m\u001b[1;33m\u001b[0m\u001b[1;33m\u001b[0m\u001b[0m\n\u001b[0m\u001b[0;32m      4\u001b[0m \u001b[0mage\u001b[0m\u001b[1;33m\u001b[0m\u001b[1;33m\u001b[0m\u001b[0m\n",
      "\u001b[1;32mE:\\Anaconda_Install\\lib\\site-packages\\sklearn\\base.py\u001b[0m in \u001b[0;36mfit_transform\u001b[1;34m(self, X, y, **fit_params)\u001b[0m\n\u001b[0;32m    551\u001b[0m         \u001b[1;32mif\u001b[0m \u001b[0my\u001b[0m \u001b[1;32mis\u001b[0m \u001b[1;32mNone\u001b[0m\u001b[1;33m:\u001b[0m\u001b[1;33m\u001b[0m\u001b[1;33m\u001b[0m\u001b[0m\n\u001b[0;32m    552\u001b[0m             \u001b[1;31m# fit method of arity 1 (unsupervised transformation)\u001b[0m\u001b[1;33m\u001b[0m\u001b[1;33m\u001b[0m\u001b[1;33m\u001b[0m\u001b[0m\n\u001b[1;32m--> 553\u001b[1;33m             \u001b[1;32mreturn\u001b[0m \u001b[0mself\u001b[0m\u001b[1;33m.\u001b[0m\u001b[0mfit\u001b[0m\u001b[1;33m(\u001b[0m\u001b[0mX\u001b[0m\u001b[1;33m,\u001b[0m \u001b[1;33m**\u001b[0m\u001b[0mfit_params\u001b[0m\u001b[1;33m)\u001b[0m\u001b[1;33m.\u001b[0m\u001b[0mtransform\u001b[0m\u001b[1;33m(\u001b[0m\u001b[0mX\u001b[0m\u001b[1;33m)\u001b[0m\u001b[1;33m\u001b[0m\u001b[1;33m\u001b[0m\u001b[0m\n\u001b[0m\u001b[0;32m    554\u001b[0m         \u001b[1;32melse\u001b[0m\u001b[1;33m:\u001b[0m\u001b[1;33m\u001b[0m\u001b[1;33m\u001b[0m\u001b[0m\n\u001b[0;32m    555\u001b[0m             \u001b[1;31m# fit method of arity 2 (supervised transformation)\u001b[0m\u001b[1;33m\u001b[0m\u001b[1;33m\u001b[0m\u001b[1;33m\u001b[0m\u001b[0m\n",
      "\u001b[1;32mE:\\Anaconda_Install\\lib\\site-packages\\sklearn\\preprocessing\\data.py\u001b[0m in \u001b[0;36mfit\u001b[1;34m(self, X, y)\u001b[0m\n\u001b[0;32m   1155\u001b[0m         \u001b[1;31m# the quantiles\u001b[0m\u001b[1;33m\u001b[0m\u001b[1;33m\u001b[0m\u001b[1;33m\u001b[0m\u001b[0m\n\u001b[0;32m   1156\u001b[0m         X = check_array(X, accept_sparse='csc', copy=self.copy, estimator=self,\n\u001b[1;32m-> 1157\u001b[1;33m                         dtype=FLOAT_DTYPES, force_all_finite='allow-nan')\n\u001b[0m\u001b[0;32m   1158\u001b[0m \u001b[1;33m\u001b[0m\u001b[0m\n\u001b[0;32m   1159\u001b[0m         \u001b[0mq_min\u001b[0m\u001b[1;33m,\u001b[0m \u001b[0mq_max\u001b[0m \u001b[1;33m=\u001b[0m \u001b[0mself\u001b[0m\u001b[1;33m.\u001b[0m\u001b[0mquantile_range\u001b[0m\u001b[1;33m\u001b[0m\u001b[1;33m\u001b[0m\u001b[0m\n",
      "\u001b[1;32mE:\\Anaconda_Install\\lib\\site-packages\\sklearn\\utils\\validation.py\u001b[0m in \u001b[0;36mcheck_array\u001b[1;34m(array, accept_sparse, accept_large_sparse, dtype, order, copy, force_all_finite, ensure_2d, allow_nd, ensure_min_samples, ensure_min_features, warn_on_dtype, estimator)\u001b[0m\n\u001b[0;32m    519\u001b[0m                     \u001b[1;34m\"Reshape your data either using array.reshape(-1, 1) if \"\u001b[0m\u001b[1;33m\u001b[0m\u001b[1;33m\u001b[0m\u001b[0m\n\u001b[0;32m    520\u001b[0m                     \u001b[1;34m\"your data has a single feature or array.reshape(1, -1) \"\u001b[0m\u001b[1;33m\u001b[0m\u001b[1;33m\u001b[0m\u001b[0m\n\u001b[1;32m--> 521\u001b[1;33m                     \"if it contains a single sample.\".format(array))\n\u001b[0m\u001b[0;32m    522\u001b[0m \u001b[1;33m\u001b[0m\u001b[0m\n\u001b[0;32m    523\u001b[0m         \u001b[1;31m# in the future np.flexible dtypes will be handled like object dtypes\u001b[0m\u001b[1;33m\u001b[0m\u001b[1;33m\u001b[0m\u001b[1;33m\u001b[0m\u001b[0m\n",
      "\u001b[1;31mValueError\u001b[0m: Expected 2D array, got 1D array instead:\narray=[3.91202301 3.4339872  3.4657359  3.04452244 3.49650756 3.40119738\n 3.25809654 3.36729583 3.97029191 3.98898405 3.40119738 3.52636052\n 4.04305127 4.07753744 3.93182563 3.4657359  3.4339872  3.4339872\n 3.49650756 3.4657359  3.29583687 3.91202301 3.71357207 3.36729583\n 3.93182563 3.71357207 3.76120012 3.09104245 4.04305127 3.63758616\n 4.09434456 3.33220451 3.09104245 3.33220451 3.80666249 3.49650756\n 3.55534806 3.8286414  3.29583687 4.02535169 3.25809654 3.61091791\n 3.87120101 3.98898405 3.68887945 3.21887582 3.36729583 3.09104245\n 3.4339872  3.17805383 3.09104245 3.25809654 3.40119738 4.06044301\n 3.73766962 3.04452244 3.71357207 3.4339872  3.78418963 3.09104245\n 3.04452244 3.66356165 3.58351894 3.17805383 3.73766962 3.4657359\n 3.63758616 3.98898405 3.21887582 3.29583687 3.33220451 3.25809654\n 3.73766962 3.13549422 3.09104245 3.09104245 3.71357207 3.29583687\n 3.25809654 3.17805383 3.09104245 3.09104245 3.58351894 3.09104245\n 3.61091791 3.29583687 3.80666249 3.25809654 3.76120012 3.17805383\n 3.04452244 3.52636052 3.73766962 4.09434456 3.04452244 3.68887945\n 3.17805383 3.09104245 3.13549422 3.4339872  3.49650756 3.09104245\n 3.04452244 3.17805383 3.29583687 3.04452244 3.29583687 3.61091791\n 3.21887582 3.17805383 3.17805383 3.8286414  3.13549422 3.21887582\n 3.66356165 4.11087386 3.63758616 3.21887582 3.09104245 3.04452244\n 3.21887582 3.17805383 3.13549422 4.2341065  3.13549422 3.25809654\n 3.40119738 3.13549422 3.68887945 4.12713439 3.49650756 3.49650756\n 3.40119738 3.66356165 3.25809654 3.4339872  3.04452244 3.09104245\n 3.36729583 3.33220451 4.00733319 3.63758616 3.09104245 3.73766962\n 3.13549422 3.04452244 3.71357207 3.52636052 4.17438727 3.09104245\n 3.17805383 3.61091791 3.73766962 3.13549422 3.76120012 3.58351894\n 3.04452244 3.13549422 3.09104245 3.8501476  3.58351894 3.80666249\n 3.29583687 3.04452244 3.4657359  3.71357207 3.09104245 3.52636052\n 3.36729583 3.36729583 3.58351894 3.36729583 3.21887582 3.13549422\n 3.49650756 3.58351894 3.73766962 3.25809654 3.8501476  3.61091791\n 3.4657359  3.13549422 3.04452244 3.29583687 3.68887945 3.71357207\n 4.09434456 3.49650756 3.4339872  3.21887582 3.04452244 3.68887945\n 3.58351894 3.68887945 3.73766962 3.36729583 3.04452244 3.13549422\n 3.25809654 3.36729583 3.04452244 3.33220451 3.4657359  3.29583687\n 4.00733319 3.29583687 4.04305127 3.95124372 3.04452244 3.71357207\n 3.21887582 3.17805383 4.09434456 3.17805383 3.58351894 3.63758616\n 3.21887582 3.4657359  3.4657359  3.71357207 3.04452244 4.18965474\n 3.61091791 4.11087386 3.25809654 3.09104245 3.25809654 3.17805383\n 3.4339872  3.17805383 3.09104245 3.8286414  3.09104245 3.36729583\n 3.13549422 3.25809654 3.93182563 3.13549422 3.4657359  3.29583687\n 3.04452244 3.09104245 3.09104245 3.49650756 3.36729583 3.8918203\n 3.71357207 3.13549422 3.52636052 3.13549422 3.73766962 3.29583687\n 3.17805383 3.21887582 3.78418963 3.04452244 3.40119738 3.21887582\n 3.17805383 3.93182563 3.52636052 3.29583687 3.17805383 4.14313473\n 3.55534806 3.76120012 3.21887582 3.17805383 3.04452244 3.33220451\n 3.63758616 3.04452244 3.68887945 3.04452244 3.95124372 3.21887582\n 3.36729583 3.13549422 4.04305127 3.09104245 3.33220451 3.66356165\n 3.61091791 3.8501476  3.95124372 3.93182563 3.52636052 3.36729583\n 3.25809654 3.49650756 3.04452244 3.21887582 3.4339872  3.17805383\n 4.17438727 3.33220451 3.36729583 3.17805383 3.8286414  4.06044301\n 3.40119738 3.21887582 3.55534806 3.33220451 3.61091791 3.36729583\n 3.8501476  3.04452244 3.21887582 3.40119738 3.71357207 3.09104245\n 3.29583687 3.21887582 3.76120012 3.25809654 3.40119738 3.36729583\n 3.33220451 4.07753744 3.4339872  3.21887582 3.58351894 3.76120012\n 3.04452244 3.17805383 3.40119738 3.61091791 3.13549422 3.61091791\n 3.8286414  3.21887582 3.71357207 3.78418963 3.09104245 3.25809654\n 3.78418963 3.78418963 3.49650756 3.71357207 3.09104245 3.58351894\n 3.09104245 3.49650756 4.04305127 3.8918203  3.09104245 3.13549422\n 3.25809654 3.61091791 3.36729583 3.40119738 3.8286414  3.17805383\n 3.04452244 3.8918203  3.33220451 3.78418963 3.87120101 3.36729583\n 3.36729583 4.14313473 4.17438727 4.20469262 3.40119738 3.40119738\n 3.36729583 3.04452244 3.09104245 3.80666249 3.21887582 3.04452244\n 3.04452244 3.21887582 3.33220451 4.06044301 3.09104245 3.09104245\n 3.4657359  3.55534806 3.17805383 3.09104245 3.04452244 3.21887582\n 3.21887582 3.17805383 3.55534806 3.80666249 4.06044301 3.33220451\n 3.73766962 3.29583687 3.04452244 3.61091791 3.4339872  3.21887582\n 3.66356165 3.09104245 3.21887582 3.21887582 3.4339872  4.00733319\n 3.55534806 3.63758616 3.71357207 3.25809654 3.8286414  3.21887582\n 3.66356165 3.33220451 3.33220451 3.21887582 3.09104245 3.04452244\n 3.04452244 3.09104245 3.09104245 3.61091791 3.29583687 3.33220451\n 3.25809654 3.04452244 3.04452244 3.04452244 3.58351894 3.4339872\n 3.21887582 3.63758616 3.25809654 3.76120012 3.13549422 3.63758616\n 3.09104245 3.36729583 3.58351894 3.36729583 3.71357207 3.33220451\n 3.04452244 3.4339872  3.71357207 3.09104245 3.17805383 3.49650756\n 3.40119738 3.21887582 3.33220451 3.25809654 3.09104245 3.25809654\n 3.13549422 3.13549422 3.21887582 4.27666612 3.17805383 3.63758616\n 4.12713439 3.17805383 3.93182563 4.39444915 3.87120101 3.25809654\n 3.66356165 3.61091791 3.52636052 3.04452244 3.09104245 3.21887582\n 3.63758616 3.29583687 3.33220451 3.09104245 3.09104245 3.91202301\n 3.17805383 4.07753744 3.36729583 3.4339872  3.66356165 4.14313473\n 3.55534806 3.36729583 3.33220451 3.13549422 3.4339872  3.17805383\n 3.04452244 4.06044301 3.33220451 4.20469262 3.17805383 3.73766962\n 3.49650756 3.80666249 3.09104245 4.18965474 3.40119738 3.21887582\n 4.00733319 3.66356165 3.04452244 3.33220451 3.71357207 3.71357207\n 3.68887945 3.63758616 3.55534806 3.04452244 3.04452244 4.15888308\n 3.8286414  3.04452244 4.06044301 3.09104245 3.17805383 3.33220451\n 3.97029191 3.93182563 3.71357207 4.09434456 3.21887582 3.25809654\n 3.25809654 3.80666249 3.17805383 3.04452244 3.04452244 3.17805383\n 3.09104245 3.4339872  3.09104245 3.17805383 3.36729583 3.4339872\n 3.17805383 3.13549422 3.8286414  4.20469262 3.13549422 3.4657359\n 3.76120012 3.29583687 4.02535169 3.21887582 3.36729583 3.61091791\n 3.97029191 3.33220451 3.91202301 3.61091791 3.04452244 3.21887582\n 4.18965474 3.13549422 3.33220451 3.61091791 3.40119738 4.06044301\n 3.73766962 3.55534806 3.98898405 3.33220451 3.17805383 3.4657359\n 3.29583687 3.09104245 3.04452244 3.8286414  3.61091791 3.49650756\n 3.66356165 3.04452244 3.09104245 3.09104245 3.13549422 3.21887582\n 3.55534806 3.04452244 3.58351894 4.12713439 3.04452244 3.29583687\n 4.12713439 3.73766962 3.95124372 3.09104245 3.71357207 3.36729583\n 3.95124372 3.21887582 3.80666249 3.17805383 3.78418963 3.21887582\n 3.52636052 3.09104245 3.8286414  3.04452244 3.63758616 3.25809654\n 3.17805383 3.33220451 3.40119738 3.98898405 3.58351894 3.04452244\n 3.09104245 3.21887582 3.29583687 3.13549422 3.17805383 3.58351894\n 3.68887945 3.25809654 3.91202301 3.29583687 3.40119738 3.13549422\n 3.91202301 3.17805383 3.33220451 3.33220451 3.80666249 3.04452244\n 3.04452244 3.36729583 3.04452244 3.04452244 3.80666249 3.04452244\n 3.52636052 3.17805383 3.13549422 3.09104245 3.4339872  3.63758616\n 3.87120101 3.13549422 3.4657359  3.33220451 3.29583687 3.17805383\n 3.91202301 3.4339872  3.29583687 3.40119738 3.49650756 3.09104245\n 3.73766962 3.13549422 3.13549422 3.29583687 3.33220451 3.29583687\n 3.09104245 3.21887582 3.09104245 3.71357207 3.93182563 3.29583687\n 3.98898405 3.09104245 3.76120012 3.68887945 3.68887945 3.17805383\n 4.24849524 3.68887945 3.76120012 3.80666249 3.8918203  3.04452244\n 3.8501476  3.09104245 4.21950771 3.4339872  3.97029191 3.21887582\n 3.21887582 3.13549422 3.09104245 3.25809654 3.09104245 3.29583687\n 4.2341065  3.21887582 3.09104245 3.36729583 3.13549422 3.8286414\n 3.52636052 3.78418963 3.13549422 3.76120012 3.21887582 3.76120012\n 3.4339872  3.09104245 3.33220451 3.25809654 3.25809654 3.8918203\n 3.95124372 3.71357207 3.29583687 3.33220451 3.40119738 3.09104245\n 3.80666249 3.13549422 3.17805383 3.68887945 3.63758616 3.04452244\n 3.4657359  3.52636052 3.4339872  4.02535169 3.17805383 3.95124372\n 3.52636052 3.04452244 3.73766962 3.73766962 3.80666249 3.63758616\n 3.21887582 3.09104245 3.09104245 3.09104245 3.52636052 3.09104245\n 3.17805383 3.09104245 3.97029191 3.33220451 3.04452244 3.73766962\n 3.04452244 3.73766962 3.87120101 3.25809654 3.09104245 3.80666249\n 3.66356165 3.8286414  3.29583687 3.4657359  3.58351894 3.91202301\n 3.09104245 3.33220451 3.21887582 3.25809654 3.80666249 3.61091791\n 3.66356165 3.95124372 3.25809654 4.18965474 3.09104245 3.76120012\n 3.49650756 4.14313473 3.29583687 3.40119738 3.8501476  3.13549422].\nReshape your data either using array.reshape(-1, 1) if your data has a single feature or array.reshape(1, -1) if it contains a single sample."
     ]
    }
   ],
   "source": [
    "from sklearn.preprocessing import RobustScaler\n",
    "rbs = RobustScaler()\n",
    "age = rbs.fit_transform(.age)\n",
    "age"
   ]
  },
  {
   "cell_type": "code",
   "execution_count": null,
   "metadata": {},
   "outputs": [],
   "source": []
  }
 ],
 "metadata": {
  "kernelspec": {
   "display_name": "Python 3",
   "language": "python",
   "name": "python3"
  },
  "language_info": {
   "codemirror_mode": {
    "name": "ipython",
    "version": 3
   },
   "file_extension": ".py",
   "mimetype": "text/x-python",
   "name": "python",
   "nbconvert_exporter": "python",
   "pygments_lexer": "ipython3",
   "version": "3.7.3"
  }
 },
 "nbformat": 4,
 "nbformat_minor": 2
}
